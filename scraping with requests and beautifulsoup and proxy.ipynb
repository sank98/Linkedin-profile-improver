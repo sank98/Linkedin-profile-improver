{
 "cells": [
  {
   "cell_type": "code",
   "execution_count": 11,
   "id": "81632766",
   "metadata": {},
   "outputs": [
    {
     "ename": "TypeError",
     "evalue": "'NoneType' object is not subscriptable",
     "output_type": "error",
     "traceback": [
      "\u001b[0;31m---------------------------------------------------------------------------\u001b[0m",
      "\u001b[0;31mTypeError\u001b[0m                                 Traceback (most recent call last)",
      "Cell \u001b[0;32mIn[11], line 9\u001b[0m\n\u001b[1;32m      7\u001b[0m site \u001b[38;5;241m=\u001b[39m s\u001b[38;5;241m.\u001b[39mget(\u001b[38;5;124m\"\u001b[39m\u001b[38;5;124mhttp://api.scraperapi.com?api_key=\u001b[39m\u001b[38;5;132;01m{}\u001b[39;00m\u001b[38;5;124m&url=\u001b[39m\u001b[38;5;124m\"\u001b[39m\u001b[38;5;241m.\u001b[39mformat(key)\u001b[38;5;241m+\u001b[39m\u001b[38;5;124m\"\u001b[39m\u001b[38;5;124mhttps://www.linkedin.com/\u001b[39m\u001b[38;5;124m\"\u001b[39m)\n\u001b[1;32m      8\u001b[0m bs_content \u001b[38;5;241m=\u001b[39m bs(site\u001b[38;5;241m.\u001b[39mcontent, \u001b[38;5;124m\"\u001b[39m\u001b[38;5;124mhtml.parser\u001b[39m\u001b[38;5;124m\"\u001b[39m)\n\u001b[0;32m----> 9\u001b[0m token \u001b[38;5;241m=\u001b[39m \u001b[43mbs_content\u001b[49m\u001b[38;5;241;43m.\u001b[39;49m\u001b[43mfind\u001b[49m\u001b[43m(\u001b[49m\u001b[38;5;124;43m\"\u001b[39;49m\u001b[38;5;124;43minput\u001b[39;49m\u001b[38;5;124;43m\"\u001b[39;49m\u001b[43m,\u001b[49m\u001b[43m \u001b[49m\u001b[43m{\u001b[49m\u001b[38;5;124;43m\"\u001b[39;49m\u001b[38;5;124;43mname\u001b[39;49m\u001b[38;5;124;43m\"\u001b[39;49m\u001b[43m:\u001b[49m\u001b[43m \u001b[49m\u001b[38;5;124;43m\"\u001b[39;49m\u001b[38;5;124;43mloginCsrfParam\u001b[39;49m\u001b[38;5;124;43m\"\u001b[39;49m\u001b[43m}\u001b[49m\u001b[43m)\u001b[49m\u001b[43m[\u001b[49m\u001b[38;5;124;43m\"\u001b[39;49m\u001b[38;5;124;43mvalue\u001b[39;49m\u001b[38;5;124;43m\"\u001b[39;49m\u001b[43m]\u001b[49m\n\u001b[1;32m     10\u001b[0m login_data \u001b[38;5;241m=\u001b[39m {\u001b[38;5;124m\"\u001b[39m\u001b[38;5;124musername\u001b[39m\u001b[38;5;124m\"\u001b[39m: \u001b[38;5;124m\"\u001b[39m\u001b[38;5;124mbotbotshukriya@gmail.com\u001b[39m\u001b[38;5;124m\"\u001b[39m,\n\u001b[1;32m     11\u001b[0m               \u001b[38;5;124m\"\u001b[39m\u001b[38;5;124mpassword\u001b[39m\u001b[38;5;124m\"\u001b[39m: \u001b[38;5;124m\"\u001b[39m\u001b[38;5;124mgj04dl5539\u001b[39m\u001b[38;5;124m\"\u001b[39m, \u001b[38;5;124m\"\u001b[39m\u001b[38;5;124mloginCsrfParam\u001b[39m\u001b[38;5;124m\"\u001b[39m: token}\n\u001b[1;32m     12\u001b[0m s\u001b[38;5;241m.\u001b[39mpost(\u001b[38;5;124m\"\u001b[39m\u001b[38;5;124mhttps://www.linkedin.com/login\u001b[39m\u001b[38;5;124m\"\u001b[39m, login_data)\n",
      "\u001b[0;31mTypeError\u001b[0m: 'NoneType' object is not subscriptable"
     ]
    }
   ],
   "source": [
    "from requests import Session\n",
    "from bs4 import BeautifulSoup as bs\n",
    "\n",
    "with Session() as s:\n",
    "    url = 'https://www.linkedin.com/in/princy-mishra/'\n",
    "    key = 'c89f123296b3a9b879bbe8557d29775d'\n",
    "    site = s.get(\"http://api.scraperapi.com?api_key={}&url=\".format(key)+\"https://www.linkedin.com/\")\n",
    "    bs_content = bs(site.content, \"html.parser\")\n",
    "    token = bs_content.find(\"input\", {\"name\": \"loginCsrfParam\"})[\"value\"]\n",
    "    login_data = {\"username\": \"botbotshukriya@gmail.com\",\n",
    "                  \"password\": \"gj04dl5539\", \"loginCsrfParam\": token}\n",
    "    s.post(\"https://www.linkedin.com/login\", login_data)\n",
    "    \n",
    "    home_page = s.get(\"http://api.scraperapi.com?api_key={}&url={}\".format(key,url))\n",
    "#     print(home_page.content)\n",
    "    bs_content = bs(home_page.content, \"html.parser\")\n",
    "    texts = bs_content.find_all('span')\n",
    "    for text in texts:\n",
    "        print(text.get_text())"
   ]
  },
  {
   "cell_type": "code",
   "execution_count": 10,
   "id": "52c8de7d",
   "metadata": {},
   "outputs": [
    {
     "data": {
      "text/plain": [
       "'http://api.scraperapi.com?api_key=c89f123296b3a9b879bbe8557d29775d&url=https://www.linkedin.com/'"
      ]
     },
     "execution_count": 10,
     "metadata": {},
     "output_type": "execute_result"
    }
   ],
   "source": [
    "\"http://api.scraperapi.com?api_key={}&url=\".format(key)+\"https://www.linkedin.com/\""
   ]
  },
  {
   "cell_type": "code",
   "execution_count": 12,
   "id": "b49ad54a",
   "metadata": {},
   "outputs": [
    {
     "data": {
      "text/plain": [
       "'http://api.scraperapi.com?api_key=c89f123296b3a9b879bbe8557d29775d&url=https://www.linkedin.com/in/princy-mishra/'"
      ]
     },
     "execution_count": 12,
     "metadata": {},
     "output_type": "execute_result"
    }
   ],
   "source": [
    "\"http://api.scraperapi.com?api_key={}&url={}\".format(key,url)"
   ]
  },
  {
   "cell_type": "code",
   "execution_count": null,
   "id": "7fea2e62",
   "metadata": {},
   "outputs": [],
   "source": []
  }
 ],
 "metadata": {
  "kernelspec": {
   "display_name": "Python 3 (ipykernel)",
   "language": "python",
   "name": "python3"
  },
  "language_info": {
   "codemirror_mode": {
    "name": "ipython",
    "version": 3
   },
   "file_extension": ".py",
   "mimetype": "text/x-python",
   "name": "python",
   "nbconvert_exporter": "python",
   "pygments_lexer": "ipython3",
   "version": "3.9.16"
  }
 },
 "nbformat": 4,
 "nbformat_minor": 5
}
